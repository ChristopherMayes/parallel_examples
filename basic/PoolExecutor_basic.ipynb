{
 "cells": [
  {
   "cell_type": "markdown",
   "metadata": {},
   "source": [
    "# Basic PoolExecutor example\n",
    "\n",
    "See: https://www.python.org/dev/peps/pep-3148/"
   ]
  },
  {
   "cell_type": "code",
   "execution_count": 1,
   "metadata": {},
   "outputs": [],
   "source": [
    "# Pick one of these:\n",
    "from concurrent.futures import ThreadPoolExecutor as PoolExecutor\n",
    "#from concurrent.futures import ProcessPoolExecutor as PoolExecutor"
   ]
  },
  {
   "cell_type": "code",
   "execution_count": 2,
   "metadata": {},
   "outputs": [],
   "source": [
    "# Worker function\n",
    "from time import sleep\n",
    "def work(x):\n",
    "    sleep(1)\n",
    "    print('work on ', x, end=' ')\n",
    "    y = 2*x\n",
    "    return y"
   ]
  },
  {
   "cell_type": "code",
   "execution_count": 3,
   "metadata": {},
   "outputs": [],
   "source": [
    "# Get executor\n",
    "executor = PoolExecutor()"
   ]
  },
  {
   "cell_type": "code",
   "execution_count": 4,
   "metadata": {},
   "outputs": [],
   "source": [
    "# Make a bunch of inputs\n",
    "inputs = [i for i in range(100)]"
   ]
  },
  {
   "cell_type": "code",
   "execution_count": 5,
   "metadata": {},
   "outputs": [
    {
     "name": "stdout",
     "output_type": "stream",
     "text": [
      "work on work on work on work on work on work on work on  work on  8  work on work on work on work on work on work on work on work on work on work on work on work on work on work on work on work on work on work on work on  work on 7 0 5 work on work on work on work on work on work on work on work on work on work on   37      23          work on   11   work on     38    19   25 14 18 3   30 35 32  15 2221 24 691233 34  201017  28  29 39 36  2716  31 1226   13     4   work on work on  40  41 work on work on work on work on work on work on work on  work on work on  53 work on work on work on work on work on work on  70 work on work on  46 work on   63  work on work on work on work on  44 75 work on 48 work on   60  work on work on  56 work on work on  71 65 61  76 work on   54  68 72 work on  work on  42    work on work on   77  67work on work on   64  49 79  43    47   work on 45 work on work on 69 5751  74 55  59 50  58 52  66   7873 62  work on work on  80  81 work on work on  83  82 work on work on work on work on  86 work on work on work on  87 work on  84 work on  88  85  89  92 work on work on  95 work on   work on  93 94 work on work on work on  97   99 91 90 98  96  "
     ]
    }
   ],
   "source": [
    "# Parallel map\n",
    "results = executor.map(work, inputs)"
   ]
  },
  {
   "cell_type": "code",
   "execution_count": 6,
   "metadata": {},
   "outputs": [],
   "source": [
    "# Collect outputs \n",
    "outputs = []\n",
    "for res in results:\n",
    "    y = res\n",
    "    outputs.append(y)"
   ]
  },
  {
   "cell_type": "markdown",
   "metadata": {},
   "source": [
    "# Real-world example: Parallelize this\n",
    "\n",
    "```python\n",
    "  for r in range(row.size):\n",
    "     for c in range(column.size):\n",
    "        data[r, c] = S.scan(trials=1, start=1, ucb_pars=[nu_range[r], delta_range[c]], pr_amp=0)\n",
    "```\n",
    "\n"
   ]
  },
  {
   "cell_type": "code",
   "execution_count": null,
   "metadata": {},
   "outputs": [],
   "source": [
    "# This is the basic function you want to compute:\n",
    "#     S.scan(trials=1, start=1, ucb_pars=[nu_range[r], delta_range[c]], pr_amp=0)\n",
    "# Make a very simple wrapper, that returns the input x and output y as a tuple\n",
    "\n",
    "def work(x):\n",
    "    y = S.scan(trials=1, start=1, ucb_pars=x, pr_amp=0)\n",
    "    return x, y\n"
   ]
  },
  {
   "cell_type": "code",
   "execution_count": null,
   "metadata": {},
   "outputs": [],
   "source": [
    "# Make inputs as a giant list to be iterated over\n",
    "inputs = []\n",
    "\n",
    "for r in range(row.size):\n",
    "    for c in range(column.size):\n",
    "        \n",
    "        x = [nu_range[r], delta_range[c]] # single input \n",
    "        inputs.append(x)"
   ]
  },
  {
   "cell_type": "code",
   "execution_count": null,
   "metadata": {},
   "outputs": [],
   "source": [
    "\n",
    "# Define empty data\n",
    "data = np.empty( (row.size, column.size) )\n",
    "for r in range(row.size):\n",
    "    for c in range(column.size):\n",
    "        \n",
    "# Parallel map\n",
    "results = executor.map(work, inputs)\n",
    "for res in results:\n",
    "    x, y = res # unpack input, output    \n",
    "    # Fill data\n",
    "    data[*x] = y\n",
    "    "
   ]
  },
  {
   "cell_type": "code",
   "execution_count": null,
   "metadata": {},
   "outputs": [],
   "source": []
  }
 ],
 "metadata": {
  "kernelspec": {
   "display_name": "Python 3",
   "language": "python",
   "name": "python3"
  },
  "language_info": {
   "codemirror_mode": {
    "name": "ipython",
    "version": 3
   },
   "file_extension": ".py",
   "mimetype": "text/x-python",
   "name": "python",
   "nbconvert_exporter": "python",
   "pygments_lexer": "ipython3",
   "version": "3.7.5"
  }
 },
 "nbformat": 4,
 "nbformat_minor": 4
}
